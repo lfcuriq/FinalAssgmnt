{
 "cells": [
  {
   "cell_type": "markdown",
   "id": "e6fbd83a",
   "metadata": {},
   "source": [
    "# Data Science Tools and Ecosystem"
   ]
  },
  {
   "cell_type": "markdown",
   "id": "bc409237",
   "metadata": {},
   "source": [
    "In this notebook, Data Science Tools and Ecosystem are summarised. "
   ]
  },
  {
   "cell_type": "markdown",
   "id": "17f57fed",
   "metadata": {},
   "source": [
    "**Objectives:**\n",
    "- Create a Jupyter Notebook with markdown and code cells\n",
    "- List examples of languages, libraries and tools used in Data Science\n",
    "- Share your Jupyter Notebook publicly on GitHub\n",
    "- Evaluate notebooks submitted by your peers using the provided rubric\n",
    "- Demonstrate proficiency in Data Science toolkit knowledge"
   ]
  },
  {
   "cell_type": "markdown",
   "id": "507066a1",
   "metadata": {},
   "source": [
    "Some of the programming languages used in Data Science are:\n",
    "1. Python\n",
    "2. Java\n",
    "3. Julia\n",
    "4. Scala\n",
    "5. SQL\n"
   ]
  },
  {
   "cell_type": "markdown",
   "id": "a37cdcb4",
   "metadata": {},
   "source": [
    "Some of the commonly used libraries by data scientists include:\n",
    "1. Tensorflow\n",
    "2. Pandas\n",
    "3. NumPy\n",
    "4. PyTorch\n"
   ]
  },
  {
   "cell_type": "markdown",
   "id": "5852951f",
   "metadata": {},
   "source": [
    "|Data Science Tools|\n",
    "-----------------------------\n",
    "|RStudio|\n",
    "|Apache Spark|\n",
    "|Anaconda|"
   ]
  },
  {
   "cell_type": "markdown",
   "id": "e21a5165",
   "metadata": {},
   "source": [
    "### Below are a few examples of evaluating arithmetic expressions in Python"
   ]
  },
  {
   "cell_type": "code",
   "execution_count": 1,
   "id": "d148474b",
   "metadata": {},
   "outputs": [
    {
     "data": {
      "text/plain": [
       "17"
      ]
     },
     "execution_count": 1,
     "metadata": {},
     "output_type": "execute_result"
    }
   ],
   "source": [
    "# This is a simple artihmetic expression to multiply then add integer numbers\n",
    "(3*4)+5\n"
   ]
  },
  {
   "cell_type": "code",
   "execution_count": 5,
   "id": "546ea5ac",
   "metadata": {},
   "outputs": [
    {
     "data": {
      "text/plain": [
       "3.3333333333333335"
      ]
     },
     "execution_count": 5,
     "metadata": {},
     "output_type": "execute_result"
    }
   ],
   "source": [
    "# This will convert 200 minutes to hours by diving by 60\n",
    "200/60"
   ]
  },
  {
   "cell_type": "markdown",
   "id": "6ac38ff4",
   "metadata": {},
   "source": [
    "## Author:\n",
    "Luis Fernando Curi Quintal"
   ]
  }
 ],
 "metadata": {
  "kernelspec": {
   "display_name": "Python 3 (ipykernel)",
   "language": "python",
   "name": "python3"
  },
  "language_info": {
   "codemirror_mode": {
    "name": "ipython",
    "version": 3
   },
   "file_extension": ".py",
   "mimetype": "text/x-python",
   "name": "python",
   "nbconvert_exporter": "python",
   "pygments_lexer": "ipython3",
   "version": "3.10.9"
  }
 },
 "nbformat": 4,
 "nbformat_minor": 5
}
